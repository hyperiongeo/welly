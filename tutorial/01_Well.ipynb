{
 "cells": [
  {
   "cell_type": "markdown",
   "metadata": {},
   "source": [
    "# The `Well` object\n",
    "\n",
    "Some preliminaries..."
   ]
  },
  {
   "cell_type": "code",
   "execution_count": 28,
   "metadata": {},
   "outputs": [
    {
     "data": {
      "text/plain": [
       "'0.4.10.dev42+g3af8468.d20220207'"
      ]
     },
     "execution_count": 28,
     "metadata": {},
     "output_type": "execute_result"
    }
   ],
   "source": [
    "import numpy as np\n",
    "import matplotlib.pyplot as plt\n",
    "\n",
    "import welly\n",
    "welly.__version__"
   ]
  },
  {
   "cell_type": "markdown",
   "metadata": {},
   "source": [
    "## Load a well from LAS\n",
    "\n",
    "In the Quick Start guide you saw how to quickly create a Project from a well with:\n",
    "\n",
    "```python\n",
    "import welly\n",
    "project = welly.from_las('path/to/well.las')\n",
    "```\n",
    "\n",
    "A `welly.Project` is a collection of `welly.Well` objects. But if you only have a single well, you may not need a Project; a Well object on its own will do. Then you could do this:\n",
    "\n",
    "```python\n",
    "well, = welly.from_las('path/to/well.las')\n",
    "```\n",
    "\n",
    "The presence of the comma after `well` unpacks the single item into the `welly` variable. (This is a Python trick, it's not a Welly thing.)\n",
    "\n",
    "Alternatively, you can use the `Well.from_las()` method to load a well by passing a filename as a `str`. This is really just a wrapper for `lasio` but instantiates a `Header`, `Curve`s, etc."
   ]
  },
  {
   "cell_type": "code",
   "execution_count": 35,
   "metadata": {},
   "outputs": [
    {
     "name": "stderr",
     "output_type": "stream",
     "text": [
      "Only engine='normal' can read wrapped files\n"
     ]
    },
    {
     "data": {
      "text/html": [
       "<table><tr><th style=\"text-align:center;\" colspan=\"2\">Kennetcook #2<br><small>Long = 63* 45'24.460  W</small></th></tr><tr><td><strong>crs</strong></td><td>CRS({})</td></tr><tr><td><strong>location</strong></td><td>Lat = 45* 12' 34.237\" N</td></tr><tr><td><strong>country</strong></td><td>CA</td></tr><tr><td><strong>province</strong></td><td>Nova Scotia</td></tr><tr><td><strong>latitude</strong></td><td></td></tr><tr><td><strong>longitude</strong></td><td></td></tr><tr><td><strong>datum</strong></td><td></td></tr><tr><td><strong>section</strong></td><td>45.20 Deg N</td></tr><tr><td><strong>range</strong></td><td>PD 176</td></tr><tr><td><strong>township</strong></td><td>63.75 Deg W</td></tr><tr><td><strong>ekb</strong></td><td>94.8</td></tr><tr><td><strong>egl</strong></td><td>90.3</td></tr><tr><td><strong>gl</strong></td><td>90.3</td></tr><tr><td><strong>tdd</strong></td><td>1935.0</td></tr><tr><td><strong>tdl</strong></td><td>1935.0</td></tr><tr><td><strong>td</strong></td><td>None</td></tr><tr><td><strong>data</strong></td><td>CALI, DPHI_DOL, DPHI_LIM, DPHI_SAN, DRHO, DT, DTS, GR, HCAL, NPHI_DOL, NPHI_LIM, NPHI_SAN, PEF, RHOB, RLA1, RLA2, RLA3, RLA4, RLA5, RM_HRLT, RT_HRLT, RXOZ, RXO_HRLT, SP</td></tr></table>"
      ],
      "text/plain": [
       "Well(uwi: 'Long = 63* 45'24.460  W', name: 'Kennetcook #2', 24 curves: ['CALI', 'HCAL', 'PEF', 'DT', 'DTS', 'DPHI_SAN', 'DPHI_LIM', 'DPHI_DOL', 'NPHI_SAN', 'NPHI_LIM', 'NPHI_DOL', 'RLA5', 'RLA3', 'RLA4', 'RLA1', 'RLA2', 'RXOZ', 'RXO_HRLT', 'RT_HRLT', 'RM_HRLT', 'DRHO', 'RHOB', 'GR', 'SP'])"
      ]
     },
     "execution_count": 35,
     "metadata": {},
     "output_type": "execute_result"
    }
   ],
   "source": [
    "from welly import Well\n",
    "\n",
    "well = Well.from_las('https://geocomp.s3.amazonaws.com/data/P-129.LAS')\n",
    "well"
   ]
  },
  {
   "cell_type": "markdown",
   "metadata": {},
   "source": [
    "The Location is not stored correctly, with latitude stored in Section and Longitude stored in Township. Also the UWI is wrong (at the top). We can fix all this by 'remapping' some fields. This is done with a dictionary that maps a well's field to its location in the LAS file. For example, we can use the Well field ('Kennetcook #2') to as the UWI in our well with a mapping like: `{'UWI': 'WELL'}`. We can remove a bad item such as the Section name, by mapping to `None`:"
   ]
  },
  {
   "cell_type": "code",
   "execution_count": 32,
   "metadata": {},
   "outputs": [
    {
     "name": "stderr",
     "output_type": "stream",
     "text": [
      "Only engine='normal' can read wrapped files\n"
     ]
    },
    {
     "data": {
      "text/html": [
       "<table><tr><th style=\"text-align:center;\" colspan=\"2\">Kennetcook #2<br><small>Kennetcook #2</small></th></tr><tr><td><strong>crs</strong></td><td>CRS({})</td></tr><tr><td><strong>country</strong></td><td>CA</td></tr><tr><td><strong>province</strong></td><td>Nova Scotia</td></tr><tr><td><strong>latitude</strong></td><td>45.20 Deg N</td></tr><tr><td><strong>longitude</strong></td><td>63.75 Deg W</td></tr><tr><td><strong>datum</strong></td><td></td></tr><tr><td><strong>range</strong></td><td>PD 176</td></tr><tr><td><strong>ekb</strong></td><td>94.8</td></tr><tr><td><strong>egl</strong></td><td>90.3</td></tr><tr><td><strong>kb</strong></td><td>94.8</td></tr><tr><td><strong>gl</strong></td><td>90.3</td></tr><tr><td><strong>tdd</strong></td><td>1935.0</td></tr><tr><td><strong>tdl</strong></td><td>1935.0</td></tr><tr><td><strong>td</strong></td><td>None</td></tr><tr><td><strong>data</strong></td><td>CALI, DPHI_DOL, DPHI_LIM, DPHI_SAN, DRHO, DT, DTS, GR, HCAL, NPHI_DOL, NPHI_LIM, NPHI_SAN, PEF, RHOB, RLA1, RLA2, RLA3, RLA4, RLA5, RM_HRLT, RT_HRLT, RXOZ, RXO_HRLT, SP</td></tr></table>"
      ],
      "text/plain": [
       "Well(uwi: 'Kennetcook #2', name: 'Kennetcook #2', 24 curves: ['CALI', 'HCAL', 'PEF', 'DT', 'DTS', 'DPHI_SAN', 'DPHI_LIM', 'DPHI_DOL', 'NPHI_SAN', 'NPHI_LIM', 'NPHI_DOL', 'RLA5', 'RLA3', 'RLA4', 'RLA1', 'RLA2', 'RXOZ', 'RXO_HRLT', 'RT_HRLT', 'RM_HRLT', 'DRHO', 'RHOB', 'GR', 'SP'])"
      ]
     },
     "execution_count": 32,
     "metadata": {},
     "output_type": "execute_result"
    }
   ],
   "source": [
    "remap = {\n",
    "    'UWI': 'WELL',\n",
    "    'KB': 'EKB',\n",
    "    'LATI': 'SECT',\n",
    "    'LONG': 'TOWN',\n",
    "    'SECT': None,\n",
    "    'TOWN': None,\n",
    "    'LOC': None\n",
    "}\n",
    "\n",
    "well = Well.from_las('data/P-129_out.LAS', remap=remap)\n",
    "well"
   ]
  },
  {
   "cell_type": "markdown",
   "metadata": {},
   "source": [
    "## Well header\n",
    "\n",
    "Metadata about the well is stored in its `header` attribute:"
   ]
  },
  {
   "cell_type": "code",
   "execution_count": 19,
   "metadata": {},
   "outputs": [
    {
     "data": {
      "text/html": [
       "<div>\n",
       "<style scoped>\n",
       "    .dataframe tbody tr th:only-of-type {\n",
       "        vertical-align: middle;\n",
       "    }\n",
       "\n",
       "    .dataframe tbody tr th {\n",
       "        vertical-align: top;\n",
       "    }\n",
       "\n",
       "    .dataframe thead th {\n",
       "        text-align: right;\n",
       "    }\n",
       "</style>\n",
       "<table border=\"1\" class=\"dataframe\">\n",
       "  <thead>\n",
       "    <tr style=\"text-align: right;\">\n",
       "      <th></th>\n",
       "      <th>original_mnemonic</th>\n",
       "      <th>mnemonic</th>\n",
       "      <th>unit</th>\n",
       "      <th>value</th>\n",
       "      <th>descr</th>\n",
       "      <th>section</th>\n",
       "    </tr>\n",
       "  </thead>\n",
       "  <tbody>\n",
       "    <tr>\n",
       "      <th>0</th>\n",
       "      <td>VERS</td>\n",
       "      <td>VERS</td>\n",
       "      <td></td>\n",
       "      <td>2.0</td>\n",
       "      <td></td>\n",
       "      <td>Version</td>\n",
       "    </tr>\n",
       "    <tr>\n",
       "      <th>1</th>\n",
       "      <td>WRAP</td>\n",
       "      <td>WRAP</td>\n",
       "      <td></td>\n",
       "      <td>YES</td>\n",
       "      <td></td>\n",
       "      <td>Version</td>\n",
       "    </tr>\n",
       "    <tr>\n",
       "      <th>2</th>\n",
       "      <td>STRT</td>\n",
       "      <td>STRT</td>\n",
       "      <td>M</td>\n",
       "      <td>1.0668</td>\n",
       "      <td>START DEPTH</td>\n",
       "      <td>Well</td>\n",
       "    </tr>\n",
       "    <tr>\n",
       "      <th>3</th>\n",
       "      <td>STOP</td>\n",
       "      <td>STOP</td>\n",
       "      <td>M</td>\n",
       "      <td>1939.1376</td>\n",
       "      <td>STOP DEPTH</td>\n",
       "      <td>Well</td>\n",
       "    </tr>\n",
       "    <tr>\n",
       "      <th>4</th>\n",
       "      <td>STEP</td>\n",
       "      <td>STEP</td>\n",
       "      <td>M</td>\n",
       "      <td>0.1524</td>\n",
       "      <td>STEP</td>\n",
       "      <td>Well</td>\n",
       "    </tr>\n",
       "    <tr>\n",
       "      <th>...</th>\n",
       "      <td>...</td>\n",
       "      <td>...</td>\n",
       "      <td>...</td>\n",
       "      <td>...</td>\n",
       "      <td>...</td>\n",
       "      <td>...</td>\n",
       "    </tr>\n",
       "    <tr>\n",
       "      <th>137</th>\n",
       "      <td>TLI</td>\n",
       "      <td>TLI</td>\n",
       "      <td>M</td>\n",
       "      <td>280.0</td>\n",
       "      <td>Top Log Interval</td>\n",
       "      <td>Parameter</td>\n",
       "    </tr>\n",
       "    <tr>\n",
       "      <th>138</th>\n",
       "      <td>UWID</td>\n",
       "      <td>UWID</td>\n",
       "      <td></td>\n",
       "      <td></td>\n",
       "      <td>Unique Well Identification Number</td>\n",
       "      <td>Parameter</td>\n",
       "    </tr>\n",
       "    <tr>\n",
       "      <th>139</th>\n",
       "      <td>WN</td>\n",
       "      <td>WN</td>\n",
       "      <td></td>\n",
       "      <td>Kennetcook #2</td>\n",
       "      <td>Well Name</td>\n",
       "      <td>Parameter</td>\n",
       "    </tr>\n",
       "    <tr>\n",
       "      <th>140</th>\n",
       "      <td>EPD</td>\n",
       "      <td>EPD</td>\n",
       "      <td>M</td>\n",
       "      <td>90.300003</td>\n",
       "      <td>Elevation of Permanent Datum above Mean Sea Level</td>\n",
       "      <td>Parameter</td>\n",
       "    </tr>\n",
       "    <tr>\n",
       "      <th>141</th>\n",
       "      <td></td>\n",
       "      <td>UNKNOWN</td>\n",
       "      <td></td>\n",
       "      <td></td>\n",
       "      <td></td>\n",
       "      <td>Other</td>\n",
       "    </tr>\n",
       "  </tbody>\n",
       "</table>\n",
       "<p>142 rows × 6 columns</p>\n",
       "</div>"
      ],
      "text/plain": [
       "    original_mnemonic mnemonic unit          value  \\\n",
       "0                VERS     VERS                 2.0   \n",
       "1                WRAP     WRAP                 YES   \n",
       "2                STRT     STRT    M         1.0668   \n",
       "3                STOP     STOP    M      1939.1376   \n",
       "4                STEP     STEP    M         0.1524   \n",
       "..                ...      ...  ...            ...   \n",
       "137               TLI      TLI    M          280.0   \n",
       "138              UWID     UWID                       \n",
       "139                WN       WN       Kennetcook #2   \n",
       "140               EPD      EPD    M      90.300003   \n",
       "141                    UNKNOWN                       \n",
       "\n",
       "                                                 descr    section  \n",
       "0                                                         Version  \n",
       "1                                                         Version  \n",
       "2                                          START DEPTH       Well  \n",
       "3                                           STOP DEPTH       Well  \n",
       "4                                                 STEP       Well  \n",
       "..                                                 ...        ...  \n",
       "137                                   Top Log Interval  Parameter  \n",
       "138                  Unique Well Identification Number  Parameter  \n",
       "139                                          Well Name  Parameter  \n",
       "140  Elevation of Permanent Datum above Mean Sea Level  Parameter  \n",
       "141                                                         Other  \n",
       "\n",
       "[142 rows x 6 columns]"
      ]
     },
     "execution_count": 19,
     "metadata": {},
     "output_type": "execute_result"
    }
   ],
   "source": [
    "well.header"
   ]
  },
  {
   "cell_type": "markdown",
   "metadata": {},
   "source": [
    "### Important note\n",
    "\n",
    "At present, the well's `header` contains a DataFrame with the entire LAS file header.\n",
    "\n",
    "In a future release, only the well information from the **WELL** part of the file will be stored in the well's header. (The Params data goes into the `well.location` attribute, and the Curve data goes into Welly's `Curve` objects.)"
   ]
  },
  {
   "cell_type": "markdown",
   "metadata": {},
   "source": [
    "## Well location\n",
    "\n",
    "The well's `location` contains the location info from **PARAMS**, and will also store the well's 3D positional information, if available."
   ]
  },
  {
   "cell_type": "code",
   "execution_count": 23,
   "metadata": {},
   "outputs": [
    {
     "data": {
      "text/plain": [
       "Location({'position': None, 'crs': CRS({}), 'country': 'CA', 'province': 'Nova Scotia', 'latitude': '45.20 Deg N', 'longitude': '63.75 Deg W', 'datum': '', 'range': 'PD 176', 'ekb': 94.8, 'egl': 90.3, 'kb': 94.8, 'gl': 90.3, 'tdd': 1935.0, 'tdl': 1935.0, 'td': None, 'deviation': None})"
      ]
     },
     "execution_count": 23,
     "metadata": {},
     "output_type": "execute_result"
    }
   ],
   "source": [
    "well.location"
   ]
  },
  {
   "cell_type": "markdown",
   "metadata": {},
   "source": [
    "The CRS for this well is missing; we can add one if we know it:"
   ]
  },
  {
   "cell_type": "code",
   "execution_count": 24,
   "metadata": {},
   "outputs": [
    {
     "data": {
      "text/plain": [
       "Location({'position': None, 'crs': CRS({'init': 'epsg:2038', 'no_defs': True}), 'country': 'CA', 'province': 'Nova Scotia', 'latitude': '45.20 Deg N', 'longitude': '63.75 Deg W', 'datum': '', 'range': 'PD 176', 'ekb': 94.8, 'egl': 90.3, 'kb': 94.8, 'gl': 90.3, 'tdd': 1935.0, 'tdl': 1935.0, 'td': None, 'deviation': None})"
      ]
     },
     "execution_count": 24,
     "metadata": {},
     "output_type": "execute_result"
    }
   ],
   "source": [
    "well.location.crs = welly.CRS.from_epsg(2038)\n",
    "\n",
    "well.location"
   ]
  },
  {
   "cell_type": "markdown",
   "metadata": {},
   "source": [
    "Right now there's no position log — we need to load a deviation survey."
   ]
  },
  {
   "cell_type": "code",
   "execution_count": 26,
   "metadata": {},
   "outputs": [],
   "source": [
    "well.location.position"
   ]
  },
  {
   "cell_type": "markdown",
   "metadata": {},
   "source": [
    "## Add deviation data to a well\n",
    "\n",
    "Let's load another well:"
   ]
  },
  {
   "cell_type": "code",
   "execution_count": 28,
   "metadata": {},
   "outputs": [],
   "source": [
    "import numpy as np\n",
    "from welly import Well\n",
    "\n",
    "well = Well.from_las('data/P-130_out.LAS')"
   ]
  },
  {
   "cell_type": "code",
   "execution_count": 29,
   "metadata": {},
   "outputs": [],
   "source": [
    "dev = np.loadtxt('data/P-130_deviation_survey.csv', delimiter=',', skiprows=1)"
   ]
  },
  {
   "cell_type": "markdown",
   "metadata": {},
   "source": [
    "The columns are MD, inclination, azimuth, and TVD."
   ]
  },
  {
   "cell_type": "code",
   "execution_count": 30,
   "metadata": {},
   "outputs": [
    {
     "data": {
      "text/plain": [
       "array([[ 18. ,   0.3,   0. ,  18. ],\n",
       "       [ 38. ,   0.5,   0. ,  38. ],\n",
       "       [ 57. ,   1.5,   0. ,  57. ],\n",
       "       [ 84. ,   1.8,   0. ,  84. ],\n",
       "       [104. ,   0.5,   0. , 104. ]])"
      ]
     },
     "execution_count": 30,
     "metadata": {},
     "output_type": "execute_result"
    }
   ],
   "source": [
    "dev[:5]"
   ]
  },
  {
   "cell_type": "markdown",
   "metadata": {},
   "source": [
    "`add_deviation` assumes those are the columns, and computes a position log."
   ]
  },
  {
   "cell_type": "code",
   "execution_count": 31,
   "metadata": {},
   "outputs": [],
   "source": [
    "p.location.add_deviation(dev[:, :3], td=2618.3)"
   ]
  },
  {
   "cell_type": "markdown",
   "metadata": {},
   "source": [
    "The columns in the position log are _x_ offset, _y_ offset, and TVD."
   ]
  },
  {
   "cell_type": "code",
   "execution_count": 32,
   "metadata": {},
   "outputs": [
    {
     "data": {
      "text/plain": [
       "array([[0.00000000e+00, 0.00000000e+00, 0.00000000e+00],\n",
       "       [0.00000000e+00, 4.71237821e-02, 1.79999178e+01],\n",
       "       [0.00000000e+00, 1.86748917e-01, 3.79994202e+01],\n",
       "       [0.00000000e+00, 5.18340431e-01, 5.69962853e+01],\n",
       "       [0.00000000e+00, 1.29577626e+00, 8.39850594e+01]])"
      ]
     },
     "execution_count": 32,
     "metadata": {},
     "output_type": "execute_result"
    }
   ],
   "source": [
    "p.location.position[:5]"
   ]
  },
  {
   "cell_type": "code",
   "execution_count": 33,
   "metadata": {},
   "outputs": [
    {
     "data": {
      "text/plain": [
       "array([[ 6.45933639e-01,  3.47023772e-01, -1.65395432e-02],\n",
       "       [ 5.90396925e-01,  3.28218888e-01, -2.63643779e+00],\n",
       "       [ 5.36457735e-01,  3.11968468e-01, -5.25632568e+00],\n",
       "       ...,\n",
       "       [-3.68094384e+00,  3.97484953e+01, -2.61112780e+03],\n",
       "       [-3.68832058e+00,  3.96833189e+01, -2.61374906e+03],\n",
       "       [-3.69619567e+00,  3.96172858e+01, -2.61637033e+03]])"
      ]
     },
     "execution_count": 33,
     "metadata": {},
     "output_type": "execute_result"
    }
   ],
   "source": [
    "p.location.trajectory()"
   ]
  },
  {
   "cell_type": "code",
   "execution_count": 34,
   "metadata": {},
   "outputs": [
    {
     "data": {
      "image/png": "[encoded data removed]",
      "text/plain": [
       "<Figure size 196.743x720 with 1 Axes>"
      ]
     },
     "metadata": {
      "needs_background": "light"
     },
     "output_type": "display_data"
    }
   ],
   "source": [
    "p.location.plot_plan()"
   ]
  },
  {
   "cell_type": "code",
   "execution_count": 35,
   "metadata": {
    "scrolled": true
   },
   "outputs": [
    {
     "data": {
      "image/png": "[encoded data removed]",
      "text/plain": [
       "<Figure size 1080x504 with 1 Axes>"
      ]
     },
     "metadata": {
      "needs_background": "light"
     },
     "output_type": "display_data"
    }
   ],
   "source": [
    "p.location.plot_3d()"
   ]
  },
  {
   "cell_type": "markdown",
   "metadata": {},
   "source": [
    "For more about the `location` attribute, see the [Well_location](Well_location.ipynb) help."
   ]
  },
  {
   "cell_type": "markdown",
   "metadata": {},
   "source": [
    "## Quick plot\n",
    "\n",
    "`welly` produces `matplotlib` plots easily... but they aren't all that pretty. You can pass in an Axes object as `ax`, and you can embellish the plots by adding more `matplotlib` commands."
   ]
  },
  {
   "cell_type": "code",
   "execution_count": 22,
   "metadata": {},
   "outputs": [
    {
     "data": {
      "image/png": "[encoded data removed]",
      "text/plain": [
       "<Figure size 720x864 with 5 Axes>"
      ]
     },
     "execution_count": 22,
     "metadata": {},
     "output_type": "execute_result"
    }
   ],
   "source": [
    "tracks = ['MD', 'GR', 'RHOB', ['DT', 'DTS'], 'MD']\n",
    "\n",
    "well.plot(tracks=tracks)"
   ]
  },
  {
   "cell_type": "markdown",
   "metadata": {},
   "source": [
    "## Location and CRS"
   ]
  },
  {
   "cell_type": "code",
   "execution_count": 24,
   "metadata": {},
   "outputs": [
    {
     "data": {
      "text/plain": [
       "Location({'position': None, 'crs': CRS({}), 'location': 'Lat = 45* 12\\' 34.237\" N', 'country': 'CA', 'province': 'Nova Scotia', 'latitude': '', 'longitude': '', 'datum': '', 'section': '45.20 Deg N', 'range': 'PD 176', 'township': '63.75 Deg W', 'ekb': 94.8, 'egl': 90.3, 'gl': 90.3, 'tdd': 1935.0, 'tdl': 1935.0, 'td': None, 'deviation': None})"
      ]
     },
     "execution_count": 24,
     "metadata": {},
     "output_type": "execute_result"
    }
   ],
   "source": [
    "w.location"
   ]
  },
  {
   "cell_type": "markdown",
   "metadata": {},
   "source": [
    "## Export curves to data matrix\n",
    "\n",
    "Make a NumPy array:"
   ]
  },
  {
   "cell_type": "code",
   "execution_count": 36,
   "metadata": {},
   "outputs": [
    {
     "data": {
      "text/plain": [
       "array([[Curve(mnemonic=CALI, units=in, start=1.0668, stop=1939.1376, step=0.1524, count=[12717]),\n",
       "        Curve(mnemonic=HCAL, units=in, start=1.0668, stop=1939.1376, step=0.1524, count=[2138]),\n",
       "        Curve(mnemonic=PEF, units=, start=1.0668, stop=1939.1376, step=0.1524, count=[12717]),\n",
       "        Curve(mnemonic=DT, units=us/ft, start=1.0668, stop=1939.1376, step=0.1524, count=[10849]),\n",
       "        Curve(mnemonic=DTS, units=us/ft, start=1.0668, stop=1939.1376, step=0.1524, count=[10849]),\n",
       "        Curve(mnemonic=DPHI_SAN, units=m3/m3, start=1.0668, stop=1939.1376, step=0.1524, count=[12717]),\n",
       "        Curve(mnemonic=DPHI_LIM, units=m3/m3, start=1.0668, stop=1939.1376, step=0.1524, count=[12717]),\n",
       "        Curve(mnemonic=DPHI_DOL, units=m3/m3, start=1.0668, stop=1939.1376, step=0.1524, count=[12717]),\n",
       "        Curve(mnemonic=NPHI_SAN, units=m3/m3, start=1.0668, stop=1939.1376, step=0.1524, count=[12717]),\n",
       "        Curve(mnemonic=NPHI_LIM, units=m3/m3, start=1.0668, stop=1939.1376, step=0.1524, count=[12717]),\n",
       "        Curve(mnemonic=NPHI_DOL, units=m3/m3, start=1.0668, stop=1939.1376, step=0.1524, count=[12717]),\n",
       "        Curve(mnemonic=RLA5, units=ohm.m, start=1.0668, stop=1939.1376, step=0.1524, count=[12717]),\n",
       "        Curve(mnemonic=RLA3, units=ohm.m, start=1.0668, stop=1939.1376, step=0.1524, count=[12717]),\n",
       "        Curve(mnemonic=RLA4, units=ohm.m, start=1.0668, stop=1939.1376, step=0.1524, count=[12717]),\n",
       "        Curve(mnemonic=RLA1, units=ohm.m, start=1.0668, stop=1939.1376, step=0.1524, count=[12717]),\n",
       "        Curve(mnemonic=RLA2, units=ohm.m, start=1.0668, stop=1939.1376, step=0.1524, count=[12717]),\n",
       "        Curve(mnemonic=RXOZ, units=ohm.m, start=1.0668, stop=1939.1376, step=0.1524, count=[12717]),\n",
       "        Curve(mnemonic=RXO_HRLT, units=ohm.m, start=1.0668, stop=1939.1376, step=0.1524, count=[2138]),\n",
       "        Curve(mnemonic=RT_HRLT, units=ohm.m, start=1.0668, stop=1939.1376, step=0.1524, count=[12717]),\n",
       "        Curve(mnemonic=RM_HRLT, units=ohm.m, start=1.0668, stop=1939.1376, step=0.1524, count=[12717]),\n",
       "        Curve(mnemonic=DRHO, units=g/cm3, start=1.0668, stop=1939.1376, step=0.1524, count=[12717]),\n",
       "        Curve(mnemonic=RHOB, units=g/cm3, start=1.0668, stop=1939.1376, step=0.1524, count=[12706]),\n",
       "        Curve(mnemonic=GR, units=gAPI, start=1.0668, stop=1939.1376, step=0.1524, count=[12717]),\n",
       "        Curve(mnemonic=SP, units=mV, start=1.0668, stop=1939.1376, step=0.1524, count=[12717])]],\n",
       "      dtype=object)"
      ]
     },
     "execution_count": 36,
     "metadata": {},
     "output_type": "execute_result"
    }
   ],
   "source": [
    "w.data_as_matrix()"
   ]
  },
  {
   "cell_type": "markdown",
   "metadata": {},
   "source": [
    "## Export curves to pandas\n",
    "\n",
    "Pandas is an optional dependency. You'll need it to make this work."
   ]
  },
  {
   "cell_type": "code",
   "execution_count": 37,
   "metadata": {},
   "outputs": [],
   "source": [
    "df = w.df()"
   ]
  },
  {
   "cell_type": "code",
   "execution_count": 38,
   "metadata": {},
   "outputs": [
    {
     "data": {
      "text/html": [
       "<div>\n",
       "<style scoped>\n",
       "    .dataframe tbody tr th:only-of-type {\n",
       "        vertical-align: middle;\n",
       "    }\n",
       "\n",
       "    .dataframe tbody tr th {\n",
       "        vertical-align: top;\n",
       "    }\n",
       "\n",
       "    .dataframe thead th {\n",
       "        text-align: right;\n",
       "    }\n",
       "</style>\n",
       "<table border=\"1\" class=\"dataframe\">\n",
       "  <thead>\n",
       "    <tr style=\"text-align: right;\">\n",
       "      <th></th>\n",
       "      <th>CALI</th>\n",
       "      <th>HCAL</th>\n",
       "      <th>PEF</th>\n",
       "      <th>DT</th>\n",
       "      <th>DTS</th>\n",
       "      <th>DPHI_SAN</th>\n",
       "      <th>DPHI_LIM</th>\n",
       "      <th>DPHI_DOL</th>\n",
       "      <th>NPHI_SAN</th>\n",
       "      <th>NPHI_LIM</th>\n",
       "      <th>...</th>\n",
       "      <th>RLA1</th>\n",
       "      <th>RLA2</th>\n",
       "      <th>RXOZ</th>\n",
       "      <th>RXO_HRLT</th>\n",
       "      <th>RT_HRLT</th>\n",
       "      <th>RM_HRLT</th>\n",
       "      <th>DRHO</th>\n",
       "      <th>RHOB</th>\n",
       "      <th>GR</th>\n",
       "      <th>SP</th>\n",
       "    </tr>\n",
       "    <tr>\n",
       "      <th>DEPT</th>\n",
       "      <th></th>\n",
       "      <th></th>\n",
       "      <th></th>\n",
       "      <th></th>\n",
       "      <th></th>\n",
       "      <th></th>\n",
       "      <th></th>\n",
       "      <th></th>\n",
       "      <th></th>\n",
       "      <th></th>\n",
       "      <th></th>\n",
       "      <th></th>\n",
       "      <th></th>\n",
       "      <th></th>\n",
       "      <th></th>\n",
       "      <th></th>\n",
       "      <th></th>\n",
       "      <th></th>\n",
       "      <th></th>\n",
       "      <th></th>\n",
       "      <th></th>\n",
       "    </tr>\n",
       "  </thead>\n",
       "  <tbody>\n",
       "    <tr>\n",
       "      <th>1.0668</th>\n",
       "      <td>2.4438154697</td>\n",
       "      <td>4.3912849426</td>\n",
       "      <td>3.586400032</td>\n",
       "      <td>NaN</td>\n",
       "      <td>NaN</td>\n",
       "      <td>0.1574800014</td>\n",
       "      <td>0.1984400004</td>\n",
       "      <td>0.2590999901</td>\n",
       "      <td>0.4650999904</td>\n",
       "      <td>0.3364700079</td>\n",
       "      <td>...</td>\n",
       "      <td>0.0320999995</td>\n",
       "      <td>0.0279399995</td>\n",
       "      <td>0.0576100014</td>\n",
       "      <td>0.0255800001</td>\n",
       "      <td>0.0255800001</td>\n",
       "      <td>0.0550099984</td>\n",
       "      <td>0.1942329407</td>\n",
       "      <td>2.3901498318</td>\n",
       "      <td>46.69865036</td>\n",
       "      <td>120.125</td>\n",
       "    </tr>\n",
       "    <tr>\n",
       "      <th>1.2192</th>\n",
       "      <td>2.4438154697</td>\n",
       "      <td>4.3912849426</td>\n",
       "      <td>3.586400032</td>\n",
       "      <td>NaN</td>\n",
       "      <td>NaN</td>\n",
       "      <td>0.1574800014</td>\n",
       "      <td>0.1984400004</td>\n",
       "      <td>0.2590999901</td>\n",
       "      <td>0.4650999904</td>\n",
       "      <td>0.3364700079</td>\n",
       "      <td>...</td>\n",
       "      <td>0.0320999995</td>\n",
       "      <td>0.0279399995</td>\n",
       "      <td>0.0576100014</td>\n",
       "      <td>0.0255800001</td>\n",
       "      <td>0.0255800001</td>\n",
       "      <td>0.0550099984</td>\n",
       "      <td>0.1942329407</td>\n",
       "      <td>2.3901498318</td>\n",
       "      <td>46.69865036</td>\n",
       "      <td>120.125</td>\n",
       "    </tr>\n",
       "    <tr>\n",
       "      <th>1.3716</th>\n",
       "      <td>2.4438154697</td>\n",
       "      <td>4.3912849426</td>\n",
       "      <td>3.586400032</td>\n",
       "      <td>NaN</td>\n",
       "      <td>NaN</td>\n",
       "      <td>0.1574800014</td>\n",
       "      <td>0.1984400004</td>\n",
       "      <td>0.2590999901</td>\n",
       "      <td>0.4650999904</td>\n",
       "      <td>0.3364700079</td>\n",
       "      <td>...</td>\n",
       "      <td>0.0320999995</td>\n",
       "      <td>0.0279399995</td>\n",
       "      <td>0.0576100014</td>\n",
       "      <td>0.0255800001</td>\n",
       "      <td>0.0255800001</td>\n",
       "      <td>0.0550099984</td>\n",
       "      <td>0.1942329407</td>\n",
       "      <td>2.3901498318</td>\n",
       "      <td>46.69865036</td>\n",
       "      <td>120.125</td>\n",
       "    </tr>\n",
       "    <tr>\n",
       "      <th>1.5240</th>\n",
       "      <td>2.4438154697</td>\n",
       "      <td>4.3912849426</td>\n",
       "      <td>3.586400032</td>\n",
       "      <td>NaN</td>\n",
       "      <td>NaN</td>\n",
       "      <td>0.1574800014</td>\n",
       "      <td>0.1984400004</td>\n",
       "      <td>0.2590999901</td>\n",
       "      <td>0.4650999904</td>\n",
       "      <td>0.3364700079</td>\n",
       "      <td>...</td>\n",
       "      <td>0.0320999995</td>\n",
       "      <td>0.0279399995</td>\n",
       "      <td>0.0576100014</td>\n",
       "      <td>0.0255800001</td>\n",
       "      <td>0.0255800001</td>\n",
       "      <td>0.0550099984</td>\n",
       "      <td>0.1942329407</td>\n",
       "      <td>2.3901498318</td>\n",
       "      <td>46.69865036</td>\n",
       "      <td>120.125</td>\n",
       "    </tr>\n",
       "    <tr>\n",
       "      <th>1.6764</th>\n",
       "      <td>2.4438154697</td>\n",
       "      <td>4.3912849426</td>\n",
       "      <td>3.586400032</td>\n",
       "      <td>NaN</td>\n",
       "      <td>NaN</td>\n",
       "      <td>0.1574800014</td>\n",
       "      <td>0.1984400004</td>\n",
       "      <td>0.2590999901</td>\n",
       "      <td>0.4650999904</td>\n",
       "      <td>0.3364700079</td>\n",
       "      <td>...</td>\n",
       "      <td>0.0320999995</td>\n",
       "      <td>0.0279399995</td>\n",
       "      <td>0.0576100014</td>\n",
       "      <td>0.0255800001</td>\n",
       "      <td>0.0255800001</td>\n",
       "      <td>0.0550099984</td>\n",
       "      <td>0.1942329407</td>\n",
       "      <td>2.3901498318</td>\n",
       "      <td>46.69865036</td>\n",
       "      <td>120.125</td>\n",
       "    </tr>\n",
       "  </tbody>\n",
       "</table>\n",
       "<p>5 rows × 24 columns</p>\n",
       "</div>"
      ],
      "text/plain": [
       "                CALI          HCAL          PEF  DT  DTS      DPHI_SAN  \\\n",
       "DEPT                                                                     \n",
       "1.0668  2.4438154697  4.3912849426  3.586400032 NaN  NaN  0.1574800014   \n",
       "1.2192  2.4438154697  4.3912849426  3.586400032 NaN  NaN  0.1574800014   \n",
       "1.3716  2.4438154697  4.3912849426  3.586400032 NaN  NaN  0.1574800014   \n",
       "1.5240  2.4438154697  4.3912849426  3.586400032 NaN  NaN  0.1574800014   \n",
       "1.6764  2.4438154697  4.3912849426  3.586400032 NaN  NaN  0.1574800014   \n",
       "\n",
       "            DPHI_LIM      DPHI_DOL      NPHI_SAN      NPHI_LIM  ...  \\\n",
       "DEPT                                                            ...   \n",
       "1.0668  0.1984400004  0.2590999901  0.4650999904  0.3364700079  ...   \n",
       "1.2192  0.1984400004  0.2590999901  0.4650999904  0.3364700079  ...   \n",
       "1.3716  0.1984400004  0.2590999901  0.4650999904  0.3364700079  ...   \n",
       "1.5240  0.1984400004  0.2590999901  0.4650999904  0.3364700079  ...   \n",
       "1.6764  0.1984400004  0.2590999901  0.4650999904  0.3364700079  ...   \n",
       "\n",
       "                RLA1          RLA2          RXOZ      RXO_HRLT       RT_HRLT  \\\n",
       "DEPT                                                                           \n",
       "1.0668  0.0320999995  0.0279399995  0.0576100014  0.0255800001  0.0255800001   \n",
       "1.2192  0.0320999995  0.0279399995  0.0576100014  0.0255800001  0.0255800001   \n",
       "1.3716  0.0320999995  0.0279399995  0.0576100014  0.0255800001  0.0255800001   \n",
       "1.5240  0.0320999995  0.0279399995  0.0576100014  0.0255800001  0.0255800001   \n",
       "1.6764  0.0320999995  0.0279399995  0.0576100014  0.0255800001  0.0255800001   \n",
       "\n",
       "             RM_HRLT          DRHO          RHOB           GR       SP  \n",
       "DEPT                                                                    \n",
       "1.0668  0.0550099984  0.1942329407  2.3901498318  46.69865036  120.125  \n",
       "1.2192  0.0550099984  0.1942329407  2.3901498318  46.69865036  120.125  \n",
       "1.3716  0.0550099984  0.1942329407  2.3901498318  46.69865036  120.125  \n",
       "1.5240  0.0550099984  0.1942329407  2.3901498318  46.69865036  120.125  \n",
       "1.6764  0.0550099984  0.1942329407  2.3901498318  46.69865036  120.125  \n",
       "\n",
       "[5 rows x 24 columns]"
      ]
     },
     "execution_count": 38,
     "metadata": {},
     "output_type": "execute_result"
    }
   ],
   "source": [
    "df.head()"
   ]
  },
  {
   "cell_type": "code",
   "execution_count": 39,
   "metadata": {},
   "outputs": [
    {
     "data": {
      "text/plain": [
       "<AxesSubplot:xlabel='DEPT'>"
      ]
     },
     "execution_count": 39,
     "metadata": {},
     "output_type": "execute_result"
    },
    {
     "data": {
      "image/png": "[encoded data removed]",
      "text/plain": [
       "<Figure size 432x288 with 1 Axes>"
      ]
     },
     "metadata": {
      "needs_background": "light"
     },
     "output_type": "display_data"
    }
   ],
   "source": [
    "df.GR.plot()"
   ]
  },
  {
   "cell_type": "markdown",
   "metadata": {},
   "source": [
    "This also gives us another path to getting a matrix:"
   ]
  },
  {
   "cell_type": "code",
   "execution_count": 40,
   "metadata": {},
   "outputs": [
    {
     "data": {
      "text/plain": [
       "array([[  2.44381547,   4.39128494,   3.58640003, ...,   2.39014983,\n",
       "         46.69865036, 120.125     ],\n",
       "       [  2.44381547,   4.39128494,   3.58640003, ...,   2.39014983,\n",
       "         46.69865036, 120.125     ],\n",
       "       [  2.44381547,   4.39128494,   3.58640003, ...,   2.39014983,\n",
       "         46.69865036, 120.125     ],\n",
       "       ...,\n",
       "       [  2.42026806,          nan,   2.23697996, ...,          nan,\n",
       "         92.24622345,  73.        ],\n",
       "       [  2.42026806,          nan,   2.23697996, ...,          nan,\n",
       "         92.24622345,  73.9375    ],\n",
       "       [  2.42026806,          nan,   2.23697996, ...,          nan,\n",
       "         92.24622345,  74.25      ]])"
      ]
     },
     "execution_count": 40,
     "metadata": {},
     "output_type": "execute_result"
    }
   ],
   "source": [
    "w.df().values"
   ]
  },
  {
   "cell_type": "markdown",
   "metadata": {},
   "source": [
    "You'll have to get depth separately:"
   ]
  },
  {
   "cell_type": "code",
   "execution_count": 41,
   "metadata": {},
   "outputs": [
    {
     "data": {
      "text/plain": [
       "array([1.0668000e+00, 1.2192000e+00, 1.3716000e+00, ..., 1.9388328e+03,\n",
       "       1.9389852e+03, 1.9391376e+03])"
      ]
     },
     "execution_count": 41,
     "metadata": {},
     "output_type": "execute_result"
    }
   ],
   "source": [
    "w.df().index.values"
   ]
  },
  {
   "cell_type": "markdown",
   "metadata": {},
   "source": [
    "To get the UWI of the well as well, e.g. if you want to combine multiple wells (maybe using `welly.Project.df()`):"
   ]
  },
  {
   "cell_type": "code",
   "execution_count": 42,
   "metadata": {
    "scrolled": true
   },
   "outputs": [],
   "source": [
    "df = w.df(uwi=True)"
   ]
  },
  {
   "cell_type": "code",
   "execution_count": 43,
   "metadata": {},
   "outputs": [
    {
     "data": {
      "text/html": [
       "<div>\n",
       "<style scoped>\n",
       "    .dataframe tbody tr th:only-of-type {\n",
       "        vertical-align: middle;\n",
       "    }\n",
       "\n",
       "    .dataframe tbody tr th {\n",
       "        vertical-align: top;\n",
       "    }\n",
       "\n",
       "    .dataframe thead th {\n",
       "        text-align: right;\n",
       "    }\n",
       "</style>\n",
       "<table border=\"1\" class=\"dataframe\">\n",
       "  <thead>\n",
       "    <tr style=\"text-align: right;\">\n",
       "      <th></th>\n",
       "      <th></th>\n",
       "      <th>CALI</th>\n",
       "      <th>HCAL</th>\n",
       "      <th>PEF</th>\n",
       "      <th>DT</th>\n",
       "      <th>DTS</th>\n",
       "      <th>DPHI_SAN</th>\n",
       "      <th>DPHI_LIM</th>\n",
       "      <th>DPHI_DOL</th>\n",
       "      <th>NPHI_SAN</th>\n",
       "      <th>NPHI_LIM</th>\n",
       "      <th>...</th>\n",
       "      <th>RLA1</th>\n",
       "      <th>RLA2</th>\n",
       "      <th>RXOZ</th>\n",
       "      <th>RXO_HRLT</th>\n",
       "      <th>RT_HRLT</th>\n",
       "      <th>RM_HRLT</th>\n",
       "      <th>DRHO</th>\n",
       "      <th>RHOB</th>\n",
       "      <th>GR</th>\n",
       "      <th>SP</th>\n",
       "    </tr>\n",
       "    <tr>\n",
       "      <th>UWI</th>\n",
       "      <th>DEPT</th>\n",
       "      <th></th>\n",
       "      <th></th>\n",
       "      <th></th>\n",
       "      <th></th>\n",
       "      <th></th>\n",
       "      <th></th>\n",
       "      <th></th>\n",
       "      <th></th>\n",
       "      <th></th>\n",
       "      <th></th>\n",
       "      <th></th>\n",
       "      <th></th>\n",
       "      <th></th>\n",
       "      <th></th>\n",
       "      <th></th>\n",
       "      <th></th>\n",
       "      <th></th>\n",
       "      <th></th>\n",
       "      <th></th>\n",
       "      <th></th>\n",
       "      <th></th>\n",
       "    </tr>\n",
       "  </thead>\n",
       "  <tbody>\n",
       "    <tr>\n",
       "      <th rowspan=\"5\" valign=\"top\">Long = 63* 45'24.460  W</th>\n",
       "      <th>1.0668</th>\n",
       "      <td>2.4438154697</td>\n",
       "      <td>4.3912849426</td>\n",
       "      <td>3.586400032</td>\n",
       "      <td>NaN</td>\n",
       "      <td>NaN</td>\n",
       "      <td>0.1574800014</td>\n",
       "      <td>0.1984400004</td>\n",
       "      <td>0.2590999901</td>\n",
       "      <td>0.4650999904</td>\n",
       "      <td>0.3364700079</td>\n",
       "      <td>...</td>\n",
       "      <td>0.0320999995</td>\n",
       "      <td>0.0279399995</td>\n",
       "      <td>0.0576100014</td>\n",
       "      <td>0.0255800001</td>\n",
       "      <td>0.0255800001</td>\n",
       "      <td>0.0550099984</td>\n",
       "      <td>0.1942329407</td>\n",
       "      <td>2.3901498318</td>\n",
       "      <td>46.69865036</td>\n",
       "      <td>120.125</td>\n",
       "    </tr>\n",
       "    <tr>\n",
       "      <th>1.2192</th>\n",
       "      <td>2.4438154697</td>\n",
       "      <td>4.3912849426</td>\n",
       "      <td>3.586400032</td>\n",
       "      <td>NaN</td>\n",
       "      <td>NaN</td>\n",
       "      <td>0.1574800014</td>\n",
       "      <td>0.1984400004</td>\n",
       "      <td>0.2590999901</td>\n",
       "      <td>0.4650999904</td>\n",
       "      <td>0.3364700079</td>\n",
       "      <td>...</td>\n",
       "      <td>0.0320999995</td>\n",
       "      <td>0.0279399995</td>\n",
       "      <td>0.0576100014</td>\n",
       "      <td>0.0255800001</td>\n",
       "      <td>0.0255800001</td>\n",
       "      <td>0.0550099984</td>\n",
       "      <td>0.1942329407</td>\n",
       "      <td>2.3901498318</td>\n",
       "      <td>46.69865036</td>\n",
       "      <td>120.125</td>\n",
       "    </tr>\n",
       "    <tr>\n",
       "      <th>1.3716</th>\n",
       "      <td>2.4438154697</td>\n",
       "      <td>4.3912849426</td>\n",
       "      <td>3.586400032</td>\n",
       "      <td>NaN</td>\n",
       "      <td>NaN</td>\n",
       "      <td>0.1574800014</td>\n",
       "      <td>0.1984400004</td>\n",
       "      <td>0.2590999901</td>\n",
       "      <td>0.4650999904</td>\n",
       "      <td>0.3364700079</td>\n",
       "      <td>...</td>\n",
       "      <td>0.0320999995</td>\n",
       "      <td>0.0279399995</td>\n",
       "      <td>0.0576100014</td>\n",
       "      <td>0.0255800001</td>\n",
       "      <td>0.0255800001</td>\n",
       "      <td>0.0550099984</td>\n",
       "      <td>0.1942329407</td>\n",
       "      <td>2.3901498318</td>\n",
       "      <td>46.69865036</td>\n",
       "      <td>120.125</td>\n",
       "    </tr>\n",
       "    <tr>\n",
       "      <th>1.5240</th>\n",
       "      <td>2.4438154697</td>\n",
       "      <td>4.3912849426</td>\n",
       "      <td>3.586400032</td>\n",
       "      <td>NaN</td>\n",
       "      <td>NaN</td>\n",
       "      <td>0.1574800014</td>\n",
       "      <td>0.1984400004</td>\n",
       "      <td>0.2590999901</td>\n",
       "      <td>0.4650999904</td>\n",
       "      <td>0.3364700079</td>\n",
       "      <td>...</td>\n",
       "      <td>0.0320999995</td>\n",
       "      <td>0.0279399995</td>\n",
       "      <td>0.0576100014</td>\n",
       "      <td>0.0255800001</td>\n",
       "      <td>0.0255800001</td>\n",
       "      <td>0.0550099984</td>\n",
       "      <td>0.1942329407</td>\n",
       "      <td>2.3901498318</td>\n",
       "      <td>46.69865036</td>\n",
       "      <td>120.125</td>\n",
       "    </tr>\n",
       "    <tr>\n",
       "      <th>1.6764</th>\n",
       "      <td>2.4438154697</td>\n",
       "      <td>4.3912849426</td>\n",
       "      <td>3.586400032</td>\n",
       "      <td>NaN</td>\n",
       "      <td>NaN</td>\n",
       "      <td>0.1574800014</td>\n",
       "      <td>0.1984400004</td>\n",
       "      <td>0.2590999901</td>\n",
       "      <td>0.4650999904</td>\n",
       "      <td>0.3364700079</td>\n",
       "      <td>...</td>\n",
       "      <td>0.0320999995</td>\n",
       "      <td>0.0279399995</td>\n",
       "      <td>0.0576100014</td>\n",
       "      <td>0.0255800001</td>\n",
       "      <td>0.0255800001</td>\n",
       "      <td>0.0550099984</td>\n",
       "      <td>0.1942329407</td>\n",
       "      <td>2.3901498318</td>\n",
       "      <td>46.69865036</td>\n",
       "      <td>120.125</td>\n",
       "    </tr>\n",
       "  </tbody>\n",
       "</table>\n",
       "<p>5 rows × 24 columns</p>\n",
       "</div>"
      ],
      "text/plain": [
       "                                        CALI          HCAL          PEF  DT  \\\n",
       "UWI                     DEPT                                                  \n",
       "Long = 63* 45'24.460  W 1.0668  2.4438154697  4.3912849426  3.586400032 NaN   \n",
       "                        1.2192  2.4438154697  4.3912849426  3.586400032 NaN   \n",
       "                        1.3716  2.4438154697  4.3912849426  3.586400032 NaN   \n",
       "                        1.5240  2.4438154697  4.3912849426  3.586400032 NaN   \n",
       "                        1.6764  2.4438154697  4.3912849426  3.586400032 NaN   \n",
       "\n",
       "                                DTS      DPHI_SAN      DPHI_LIM      DPHI_DOL  \\\n",
       "UWI                     DEPT                                                    \n",
       "Long = 63* 45'24.460  W 1.0668  NaN  0.1574800014  0.1984400004  0.2590999901   \n",
       "                        1.2192  NaN  0.1574800014  0.1984400004  0.2590999901   \n",
       "                        1.3716  NaN  0.1574800014  0.1984400004  0.2590999901   \n",
       "                        1.5240  NaN  0.1574800014  0.1984400004  0.2590999901   \n",
       "                        1.6764  NaN  0.1574800014  0.1984400004  0.2590999901   \n",
       "\n",
       "                                    NPHI_SAN      NPHI_LIM  ...          RLA1  \\\n",
       "UWI                     DEPT                                ...                 \n",
       "Long = 63* 45'24.460  W 1.0668  0.4650999904  0.3364700079  ...  0.0320999995   \n",
       "                        1.2192  0.4650999904  0.3364700079  ...  0.0320999995   \n",
       "                        1.3716  0.4650999904  0.3364700079  ...  0.0320999995   \n",
       "                        1.5240  0.4650999904  0.3364700079  ...  0.0320999995   \n",
       "                        1.6764  0.4650999904  0.3364700079  ...  0.0320999995   \n",
       "\n",
       "                                        RLA2          RXOZ      RXO_HRLT  \\\n",
       "UWI                     DEPT                                               \n",
       "Long = 63* 45'24.460  W 1.0668  0.0279399995  0.0576100014  0.0255800001   \n",
       "                        1.2192  0.0279399995  0.0576100014  0.0255800001   \n",
       "                        1.3716  0.0279399995  0.0576100014  0.0255800001   \n",
       "                        1.5240  0.0279399995  0.0576100014  0.0255800001   \n",
       "                        1.6764  0.0279399995  0.0576100014  0.0255800001   \n",
       "\n",
       "                                     RT_HRLT       RM_HRLT          DRHO  \\\n",
       "UWI                     DEPT                                               \n",
       "Long = 63* 45'24.460  W 1.0668  0.0255800001  0.0550099984  0.1942329407   \n",
       "                        1.2192  0.0255800001  0.0550099984  0.1942329407   \n",
       "                        1.3716  0.0255800001  0.0550099984  0.1942329407   \n",
       "                        1.5240  0.0255800001  0.0550099984  0.1942329407   \n",
       "                        1.6764  0.0255800001  0.0550099984  0.1942329407   \n",
       "\n",
       "                                        RHOB           GR       SP  \n",
       "UWI                     DEPT                                        \n",
       "Long = 63* 45'24.460  W 1.0668  2.3901498318  46.69865036  120.125  \n",
       "                        1.2192  2.3901498318  46.69865036  120.125  \n",
       "                        1.3716  2.3901498318  46.69865036  120.125  \n",
       "                        1.5240  2.3901498318  46.69865036  120.125  \n",
       "                        1.6764  2.3901498318  46.69865036  120.125  \n",
       "\n",
       "[5 rows x 24 columns]"
      ]
     },
     "execution_count": 43,
     "metadata": {},
     "output_type": "execute_result"
    }
   ],
   "source": [
    "df.head()"
   ]
  },
  {
   "cell_type": "markdown",
   "metadata": {},
   "source": [
    "### Pandas with an alias dictionary"
   ]
  },
  {
   "cell_type": "code",
   "execution_count": 44,
   "metadata": {},
   "outputs": [
    {
     "data": {
      "text/plain": [
       "{'Gamma': ['GR', 'GAM', 'GRC', 'SGR', 'NGT'],\n",
       " 'Density': ['RHOZ', 'RHOB', 'DEN', 'RHOZ'],\n",
       " 'Sonic': ['DT', 'AC', 'DTP', 'DT4P'],\n",
       " 'Caliper': ['CAL', 'CALI', 'CALS', 'C1'],\n",
       " 'Porosity SS': ['NPSS', 'DPSS']}"
      ]
     },
     "execution_count": 44,
     "metadata": {},
     "output_type": "execute_result"
    }
   ],
   "source": [
    "alias"
   ]
  },
  {
   "cell_type": "code",
   "execution_count": 48,
   "metadata": {},
   "outputs": [
    {
     "data": {
      "text/html": [
       "<div>\n",
       "<style scoped>\n",
       "    .dataframe tbody tr th:only-of-type {\n",
       "        vertical-align: middle;\n",
       "    }\n",
       "\n",
       "    .dataframe tbody tr th {\n",
       "        vertical-align: top;\n",
       "    }\n",
       "\n",
       "    .dataframe thead th {\n",
       "        text-align: right;\n",
       "    }\n",
       "</style>\n",
       "<table border=\"1\" class=\"dataframe\">\n",
       "  <thead>\n",
       "    <tr style=\"text-align: right;\">\n",
       "      <th></th>\n",
       "      <th>CALI</th>\n",
       "      <th>Gamma</th>\n",
       "      <th>Density</th>\n",
       "      <th>Sonic</th>\n",
       "      <th>RLA1</th>\n",
       "    </tr>\n",
       "    <tr>\n",
       "      <th>DEPT</th>\n",
       "      <th></th>\n",
       "      <th></th>\n",
       "      <th></th>\n",
       "      <th></th>\n",
       "      <th></th>\n",
       "    </tr>\n",
       "  </thead>\n",
       "  <tbody>\n",
       "    <tr>\n",
       "      <th>1.0668</th>\n",
       "      <td>2.4438154697</td>\n",
       "      <td>46.69865036</td>\n",
       "      <td>2.3901498318</td>\n",
       "      <td>NaN</td>\n",
       "      <td>0.0320999995</td>\n",
       "    </tr>\n",
       "    <tr>\n",
       "      <th>1.2192</th>\n",
       "      <td>2.4438154697</td>\n",
       "      <td>46.69865036</td>\n",
       "      <td>2.3901498318</td>\n",
       "      <td>NaN</td>\n",
       "      <td>0.0320999995</td>\n",
       "    </tr>\n",
       "    <tr>\n",
       "      <th>1.3716</th>\n",
       "      <td>2.4438154697</td>\n",
       "      <td>46.69865036</td>\n",
       "      <td>2.3901498318</td>\n",
       "      <td>NaN</td>\n",
       "      <td>0.0320999995</td>\n",
       "    </tr>\n",
       "    <tr>\n",
       "      <th>1.5240</th>\n",
       "      <td>2.4438154697</td>\n",
       "      <td>46.69865036</td>\n",
       "      <td>2.3901498318</td>\n",
       "      <td>NaN</td>\n",
       "      <td>0.0320999995</td>\n",
       "    </tr>\n",
       "    <tr>\n",
       "      <th>1.6764</th>\n",
       "      <td>2.4438154697</td>\n",
       "      <td>46.69865036</td>\n",
       "      <td>2.3901498318</td>\n",
       "      <td>NaN</td>\n",
       "      <td>0.0320999995</td>\n",
       "    </tr>\n",
       "  </tbody>\n",
       "</table>\n",
       "</div>"
      ],
      "text/plain": [
       "                CALI        Gamma       Density  Sonic          RLA1\n",
       "DEPT                                                                \n",
       "1.0668  2.4438154697  46.69865036  2.3901498318    NaN  0.0320999995\n",
       "1.2192  2.4438154697  46.69865036  2.3901498318    NaN  0.0320999995\n",
       "1.3716  2.4438154697  46.69865036  2.3901498318    NaN  0.0320999995\n",
       "1.5240  2.4438154697  46.69865036  2.3901498318    NaN  0.0320999995\n",
       "1.6764  2.4438154697  46.69865036  2.3901498318    NaN  0.0320999995"
      ]
     },
     "execution_count": 48,
     "metadata": {},
     "output_type": "execute_result"
    }
   ],
   "source": [
    "keys = ['CALI', 'Gamma', 'Density', 'Sonic', 'RLA1']\n",
    "w.df(keys=keys, alias=alias, rename_aliased=True).head()"
   ]
  },
  {
   "cell_type": "markdown",
   "metadata": {},
   "source": [
    "## Make an 'empty' well"
   ]
  },
  {
   "cell_type": "code",
   "execution_count": 2,
   "metadata": {},
   "outputs": [
    {
     "data": {
      "text/html": [
       "<div>\n",
       "<style scoped>\n",
       "    .dataframe tbody tr th:only-of-type {\n",
       "        vertical-align: middle;\n",
       "    }\n",
       "\n",
       "    .dataframe tbody tr th {\n",
       "        vertical-align: top;\n",
       "    }\n",
       "\n",
       "    .dataframe thead th {\n",
       "        text-align: right;\n",
       "    }\n",
       "</style>\n",
       "<table border=\"1\" class=\"dataframe\">\n",
       "  <thead>\n",
       "    <tr style=\"text-align: right;\">\n",
       "      <th></th>\n",
       "      <th>original_mnemonic</th>\n",
       "      <th>mnemonic</th>\n",
       "      <th>unit</th>\n",
       "      <th>value</th>\n",
       "      <th>descr</th>\n",
       "      <th>section</th>\n",
       "    </tr>\n",
       "  </thead>\n",
       "  <tbody>\n",
       "  </tbody>\n",
       "</table>\n",
       "</div>"
      ],
      "text/plain": [
       "Empty DataFrame\n",
       "Columns: [original_mnemonic, mnemonic, unit, value, descr, section]\n",
       "Index: []"
      ]
     },
     "execution_count": 2,
     "metadata": {},
     "output_type": "execute_result"
    }
   ],
   "source": [
    "w = welly.Well()\n",
    "\n",
    "w.header  # is empty"
   ]
  },
  {
   "cell_type": "markdown",
   "metadata": {},
   "source": [
    "We can set the **UWI** and **name** of a well directly on the well object, but these are the only attributes of the well we can set in this way."
   ]
  },
  {
   "cell_type": "code",
   "execution_count": 3,
   "metadata": {},
   "outputs": [
    {
     "data": {
      "text/plain": [
       "'foo'"
      ]
     },
     "execution_count": 3,
     "metadata": {},
     "output_type": "execute_result"
    }
   ],
   "source": [
    "w.uwi = 'foo'\n",
    "w.uwi"
   ]
  },
  {
   "cell_type": "code",
   "execution_count": 4,
   "metadata": {
    "scrolled": true
   },
   "outputs": [
    {
     "data": {
      "text/html": [
       "<div>\n",
       "<style scoped>\n",
       "    .dataframe tbody tr th:only-of-type {\n",
       "        vertical-align: middle;\n",
       "    }\n",
       "\n",
       "    .dataframe tbody tr th {\n",
       "        vertical-align: top;\n",
       "    }\n",
       "\n",
       "    .dataframe thead th {\n",
       "        text-align: right;\n",
       "    }\n",
       "</style>\n",
       "<table border=\"1\" class=\"dataframe\">\n",
       "  <thead>\n",
       "    <tr style=\"text-align: right;\">\n",
       "      <th></th>\n",
       "      <th>original_mnemonic</th>\n",
       "      <th>mnemonic</th>\n",
       "      <th>unit</th>\n",
       "      <th>value</th>\n",
       "      <th>descr</th>\n",
       "      <th>section</th>\n",
       "    </tr>\n",
       "  </thead>\n",
       "  <tbody>\n",
       "    <tr>\n",
       "      <th>0</th>\n",
       "      <td>UWI</td>\n",
       "      <td>UWI</td>\n",
       "      <td>None</td>\n",
       "      <td>foo</td>\n",
       "      <td>None</td>\n",
       "      <td>header</td>\n",
       "    </tr>\n",
       "  </tbody>\n",
       "</table>\n",
       "</div>"
      ],
      "text/plain": [
       "  original_mnemonic mnemonic  unit value descr section\n",
       "0               UWI      UWI  None   foo  None  header"
      ]
     },
     "execution_count": 4,
     "metadata": {},
     "output_type": "execute_result"
    }
   ],
   "source": [
    "w.header"
   ]
  },
  {
   "cell_type": "markdown",
   "metadata": {},
   "source": [
    "---\n",
    "\n",
    "&copy; 2022 Agile Scientific, CC BY"
   ]
  }
 ],
 "metadata": {
  "kernelspec": {
   "display_name": "welly",
   "language": "python",
   "name": "welly"
  },
  "language_info": {
   "codemirror_mode": {
    "name": "ipython",
    "version": 3
   },
   "file_extension": ".py",
   "mimetype": "text/x-python",
   "name": "python",
   "nbconvert_exporter": "python",
   "pygments_lexer": "ipython3",
   "version": "3.9.7"
  }
 },
 "nbformat": 4,
 "nbformat_minor": 1
}
